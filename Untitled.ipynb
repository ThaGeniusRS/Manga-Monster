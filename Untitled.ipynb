{
 "cells": [
  {
   "cell_type": "code",
   "execution_count": 25,
   "metadata": {},
   "outputs": [],
   "source": [
    "import pandas as pd\n",
    "import re\n",
    "\n",
    "df=pd.read_csv('./utils/web-data/mangatown.csv')\n",
    "df2=pd.read_csv('./utils/web-data/mangatown2.csv')\n",
    "\n",
    "# combine these two dataframes into one\n",
    "frames = [df, df2]\n",
    "df3 = pd.concat(frames)\n",
    "\n",
    "# remove unnecessary/unused columns from dataset\n",
    "df4 = df3.drop(['web-scraper-order', 'web-scraper-start-url'], axis=1)\n",
    "\n",
    "# use regex to pull view number from link column\n",
    "views = []\n",
    "\n",
    "for row in df4['link']:\n",
    "    m = re.search('Views: (\\d+)', row, re.IGNORECASE)\n",
    "    views.append(int((m.group(1))))\n",
    "\n",
    "# create a column for views, using the information in the link column\n",
    "df4['views'] = views\n",
    "\n",
    "# remove link column as it is no longer needed\n",
    "df5 = df4.drop(['link'], axis=1)\n",
    "\n",
    "df5 = df5.rename(columns={\"genres\": \"description\", \"description\": \"demographic\", \"demographic\": \"genres\"})\n",
    "\n",
    "# export new dataframe as csv to web-data directory\n",
    "df5.to_csv(r'/Users/hennybowejr/Library/Mobile Documents/com~apple~CloudDocs/Desktop/manga-monster/utils/web-data/mangamonster.csv')"
   ]
  },
  {
   "cell_type": "code",
   "execution_count": null,
   "metadata": {},
   "outputs": [],
   "source": []
  }
 ],
 "metadata": {
  "kernelspec": {
   "display_name": "Python 3",
   "language": "python",
   "name": "python3"
  },
  "language_info": {
   "codemirror_mode": {
    "name": "ipython",
    "version": 3
   },
   "file_extension": ".py",
   "mimetype": "text/x-python",
   "name": "python",
   "nbconvert_exporter": "python",
   "pygments_lexer": "ipython3",
   "version": "3.7.3"
  }
 },
 "nbformat": 4,
 "nbformat_minor": 2
}
